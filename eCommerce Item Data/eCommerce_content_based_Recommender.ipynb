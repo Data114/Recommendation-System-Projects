{
 "cells": [
  {
   "cell_type": "markdown",
   "metadata": {},
   "source": [
    "# E-commerce Recommendation engine"
   ]
  },
  {
   "cell_type": "markdown",
   "metadata": {},
   "source": [
    " __This dataset contains data from the 500 actual SKUs from an outdoor apparel brand's product catalog.__"
   ]
  },
  {
   "cell_type": "markdown",
   "metadata": {},
   "source": [
    "### Preliminaries"
   ]
  },
  {
   "cell_type": "code",
   "execution_count": 1,
   "metadata": {},
   "outputs": [],
   "source": [
    "import numpy as np\n",
    "import pandas as pd\n",
    "import matplotlib.pyplot as plt\n",
    "import seaborn as sns\n",
    "sns.set_style('white')\n",
    "%matplotlib inline"
   ]
  },
  {
   "cell_type": "code",
   "execution_count": 2,
   "metadata": {},
   "outputs": [],
   "source": [
    "from sklearn.feature_extraction.text import TfidfVectorizer\n",
    "from sklearn.metrics.pairwise import linear_kernel\n",
    "from collections import Counter\n",
    "import string\n",
    "import re"
   ]
  },
  {
   "cell_type": "markdown",
   "metadata": {},
   "source": [
    "### Loading Data "
   ]
  },
  {
   "cell_type": "code",
   "execution_count": 3,
   "metadata": {},
   "outputs": [
    {
     "name": "stdout",
     "output_type": "stream",
     "text": [
      "Shape:(500, 2)\n"
     ]
    },
    {
     "data": {
      "text/html": [
       "<div>\n",
       "<style scoped>\n",
       "    .dataframe tbody tr th:only-of-type {\n",
       "        vertical-align: middle;\n",
       "    }\n",
       "\n",
       "    .dataframe tbody tr th {\n",
       "        vertical-align: top;\n",
       "    }\n",
       "\n",
       "    .dataframe thead th {\n",
       "        text-align: right;\n",
       "    }\n",
       "</style>\n",
       "<table border=\"1\" class=\"dataframe\">\n",
       "  <thead>\n",
       "    <tr style=\"text-align: right;\">\n",
       "      <th></th>\n",
       "      <th>id</th>\n",
       "      <th>description</th>\n",
       "    </tr>\n",
       "  </thead>\n",
       "  <tbody>\n",
       "    <tr>\n",
       "      <th>0</th>\n",
       "      <td>1</td>\n",
       "      <td>Active classic boxers - There's a reason why o...</td>\n",
       "    </tr>\n",
       "    <tr>\n",
       "      <th>1</th>\n",
       "      <td>2</td>\n",
       "      <td>Active sport boxer briefs - Skinning up Glory ...</td>\n",
       "    </tr>\n",
       "    <tr>\n",
       "      <th>2</th>\n",
       "      <td>3</td>\n",
       "      <td>Active sport briefs - These superbreathable no...</td>\n",
       "    </tr>\n",
       "    <tr>\n",
       "      <th>3</th>\n",
       "      <td>4</td>\n",
       "      <td>Alpine guide pants - Skin in, climb ice, switc...</td>\n",
       "    </tr>\n",
       "    <tr>\n",
       "      <th>4</th>\n",
       "      <td>5</td>\n",
       "      <td>Alpine wind jkt - On high ridges, steep ice an...</td>\n",
       "    </tr>\n",
       "  </tbody>\n",
       "</table>\n",
       "</div>"
      ],
      "text/plain": [
       "   id                                        description\n",
       "0   1  Active classic boxers - There's a reason why o...\n",
       "1   2  Active sport boxer briefs - Skinning up Glory ...\n",
       "2   3  Active sport briefs - These superbreathable no...\n",
       "3   4  Alpine guide pants - Skin in, climb ice, switc...\n",
       "4   5  Alpine wind jkt - On high ridges, steep ice an..."
      ]
     },
     "execution_count": 3,
     "metadata": {},
     "output_type": "execute_result"
    }
   ],
   "source": [
    "df = pd.read_csv('sample-data.csv')\n",
    "print('Shape:{}'.format(df.shape))\n",
    "df.head()"
   ]
  },
  {
   "cell_type": "markdown",
   "metadata": {},
   "source": [
    "### Cleaning Data"
   ]
  },
  {
   "cell_type": "code",
   "execution_count": 4,
   "metadata": {},
   "outputs": [],
   "source": [
    "def clean(Text):\n",
    "    Text = re.sub('-',' ',Text)\n",
    "    Text = re.sub('>','> ',Text)\n",
    "    Text = re.sub('<',' <',Text)\n",
    "    Text = \"\".join([ch for ch in Text if ch not in string.punctuation ])\n",
    "    cleanr = re.compile('<.*>')\n",
    "    cleantext = re.sub(cleanr, ' ', Text)\n",
    "    cleantext = re.sub(' +',' ',cleantext)\n",
    "    return cleantext"
   ]
  },
  {
   "cell_type": "code",
   "execution_count": 5,
   "metadata": {},
   "outputs": [],
   "source": [
    "df_clean = df.copy()\n",
    "df_clean['description'] = df_clean['description'].str.lower()\n",
    "df_clean['description'] = df_clean['description'].apply(clean)"
   ]
  },
  {
   "cell_type": "markdown",
   "metadata": {},
   "source": [
    "__First let's try the statistical NLP approach by calculating the tf-idf based features for the dataset\n",
    "and then use the cosine similarity function to calculate the list of most similar products to a given input__"
   ]
  },
  {
   "cell_type": "code",
   "execution_count": 6,
   "metadata": {},
   "outputs": [],
   "source": [
    "## Create a TF-IDF matrix of unigrams, bigrams, and trigrams for each product. \n",
    "## The 'stop_words' param tells the TF-IDF module to ignore common english words like 'the', etc.\n",
    "\n",
    "tf = TfidfVectorizer(analyzer='word', ngram_range=(1, 3), min_df=0, stop_words='english')\n",
    "tfidf_matrix = tf.fit_transform(df_clean['description'])"
   ]
  },
  {
   "cell_type": "code",
   "execution_count": 7,
   "metadata": {},
   "outputs": [
    {
     "data": {
      "text/plain": [
       "(500, 500)"
      ]
     },
     "execution_count": 7,
     "metadata": {},
     "output_type": "execute_result"
    }
   ],
   "source": [
    "cosine_similarities = linear_kernel(tfidf_matrix, tfidf_matrix)\n",
    "cosine_similarities.shape"
   ]
  },
  {
   "cell_type": "markdown",
   "metadata": {},
   "source": [
    "### Model"
   ]
  },
  {
   "cell_type": "code",
   "execution_count": 8,
   "metadata": {},
   "outputs": [],
   "source": [
    "def recommender(product_id,cosine_similarities,df,number_similar_products =10):\n",
    "    similar_products = cosine_similarities[product_id-1].argsort()[:-number_similar_products-2:-1]\n",
    "    similar_products = similar_products[1:,]\n",
    "    print('Description of Product:')\n",
    "    print(df[\"description\"][product_id-1])\n",
    "    print('\\n')\n",
    "    print(\"Similar product to {0} : \".format(product_id))\n",
    "    for x in similar_products:\n",
    "        print(x)\n",
    "    print('\\n')\n",
    "    print('Description of Most Similar Product:')\n",
    "    print(df[\"description\"][similar_products[0]])\n",
    "    print('\\n')\n",
    "    print(df[\"description\"][similar_products[1]])"
   ]
  },
  {
   "cell_type": "code",
   "execution_count": 9,
   "metadata": {},
   "outputs": [
    {
     "name": "stdout",
     "output_type": "stream",
     "text": [
      "Description of Product:\n",
      "alpine wind jkt on high ridges steep ice and anything alpine this jacket serves as a true best of all worlds staple it excels as a stand alone shell for blustery rock climbs cool weather trail runs and high output ski tours and then when conditions have you ice and alpine climbing it functions as a lightly insulated windshirt on the approach as well as a frictionless midlayer when its time to bundle up and tie in the polyester ripstop shell with a deluge dwr durable water repellent treatment sheds snow and blocks wind while the smooth lightly brushed hanging mesh liner wicks moisture dries fast and doesnt bind to your baselayers superlight stretch woven underarm panels enhance breathability and allow for unimpaired arm motion and the two hand pockets close with zippers a drawcord hem elastic cuffs a heat transfer reflective logo and a regular coil center front zipper with dwr finish round out the features updated this season for an improved fit recyclable through the common threads recycling program br br b details b ul li lightweight breathable polyester ripstop fabric with deluge dwr durable water repellent finish slightly brushed polyester mesh liner wicks moisture and dries fast li li stretch woven underarm panels provide breathability stretch for unimpeded range of motion li li dwr finish on center front zipper li li elastic cuffs li li pockets exterior chest zippered handwarmers li li drawcord hem li li reflective heat transfer logo li ul br br b fabric b shell 13 oz 20 denier 100 polyester ripstop panels 46 oz 75 denier 90 all recycled polyester10 spandex shell and panels have deluge dwr durable water repellent finish lining 100 polyester brushed tricot mesh recyclable through the common threads recycling program br br b weight b 331 g 115 oz br br made in china\n",
      "\n",
      "\n",
      "Similar product to 5 : \n",
      "307\n",
      "95\n",
      "280\n",
      "292\n",
      "209\n",
      "363\n",
      "96\n",
      "206\n",
      "215\n",
      "208\n",
      "\n",
      "\n",
      "Description of Most Similar Product:\n",
      "alpine wind jkt on high ridges steep ice and anything alpine this jacket serves as a true best of all worlds staple it excels as a stand alone shell for blustery rock climbs cool weather trail runs and high output ski tours and then when conditions have you ice and alpine climbing it functions as a lightly insulated windshirt on the approach as well as a frictionless midlayer when its time to bundle up and tie in the polyester ripstop shell with a deluge dwr durable water repellent treatment sheds snow and blocks wind while the smooth lightly brushed hanging mesh liner wicks moisture dries fast and doesnt bind to your baselayers superlight stretch woven underarm panels enhance breathability and allow for unimpaired arm motion and the two hand pockets close with zippers a drawcord hem elastic cuffs a heat transfer reflective logo and a regular coil center front zipper with dwr finish round out the features updated this season for an improved fit recyclable through the common threads recycling program br br b details b ul li lightweight breathable polyester ripstop fabric with a deluge dwr durable water repellent finish slightly brushed polyester mesh liner wicks moisture and dries fast li li stretch woven underarm panels provide breathability stretch for unimpeded range of motion li li center front zipper has dwr finish li li elastic cuffs li li zippered handwarmer pockets li li drawcord hem li li reflective heat transfer logo li ul br br b fabric b shell 13 oz 20 denier 100 polyester ripstop panels 46 oz 75 denier 90 all recycled polyester10 spandex shell and panels have deluge dwr durable water repellent finish lining 100 polyester brushed tricot mesh recyclable through the common threads recycling program br br b weight b 274 g 95 oz br br made in china\n",
      "\n",
      "\n",
      "nine trails jkt somewhere between the bridger ridge run for normal trail runners and the barkley marathons for the insane we all find our stride this jacket is made from lightweight wind resistant 15 denier 100 nylon thats treated with a deluge dwr durable water repellent finish to shed light rain its exceptionally breathable stretch woven back and underarm panels 91 all recycled polyester9 spandex vent excess heat the high rise tricot lined neck revised wrists now with improved elastic style cuffs that are easily pushed up and drawcord at the hem seal out chilly weather the jacket stashes into its own internal chest pocket reflective heat transfer logos front and back keep you visible br br b details b ul li light slightly transparent tough triple ripstop nylon soft shell on torso arms and shoulders and breathable recycled polyester stretch woven fabric on back and underarms deluge dwr durable water repellent finish for weather protection li li jacket stuffs into internal chest pocket li li improved fit on lower sleeve and soft shell fabric removed sleeves are easily pushed up over forearms li li drawcord at hem keeps wind out li li reflective heat transfer logos front and back li li can be worn over baselayers and light midlayers li ul br br b fabric b body 11 oz 15 denier 100 nylon with 50 denier triple ripstop yarns back and underarm panels 35 oz 75 denier stretch woven 91 all recycled polyester9 spandex jacket has a deluge dwr finish br br b weight b 126 g 44 oz br br made in vietnam\n"
     ]
    }
   ],
   "source": [
    "recommender(5,cosine_similarities,df_clean)"
   ]
  },
  {
   "cell_type": "markdown",
   "metadata": {},
   "source": [
    "***"
   ]
  }
 ],
 "metadata": {
  "kernelspec": {
   "display_name": "Python 3",
   "language": "python",
   "name": "python3"
  },
  "language_info": {
   "codemirror_mode": {
    "name": "ipython",
    "version": 3
   },
   "file_extension": ".py",
   "mimetype": "text/x-python",
   "name": "python",
   "nbconvert_exporter": "python",
   "pygments_lexer": "ipython3",
   "version": "3.6.5"
  }
 },
 "nbformat": 4,
 "nbformat_minor": 2
}
